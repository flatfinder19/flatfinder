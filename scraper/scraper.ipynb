{
 "cells": [
  {
   "cell_type": "code",
   "execution_count": 21,
   "metadata": {},
   "outputs": [],
   "source": [
    "from craigslist import CraigslistHousing\n",
    "from sqlalchemy import create_engine\n",
    "from sqlalchemy.ext.declarative import declarative_base\n",
    "from sqlalchemy import Column, Integer, String, DateTime, Float, Boolean\n",
    "from sqlalchemy.orm import sessionmaker\n",
    "from dateutil.parser import parse\n",
    "from util import post_listing_to_slack, find_points_of_interest\n",
    "# from slackclient import SlackClient\n",
    "import time\n",
    "import settings\n",
    "\n",
    "engine = create_engine('sqlite:///listings.db', echo=False)\n",
    "\n",
    "Base = declarative_base()\n",
    "\n",
    "class Listing(Base):\n",
    "    \"\"\"\n",
    "    A table to store data on craigslist listings.\n",
    "    \"\"\"\n",
    "\n",
    "    __tablename__ = 'listings'\n",
    "\n",
    "    id = Column(Integer, primary_key=True)\n",
    "    link = Column(String, unique=True)\n",
    "    created = Column(DateTime)\n",
    "    geotag = Column(String)\n",
    "    lat = Column(Float)\n",
    "    lon = Column(Float)\n",
    "    name = Column(String)\n",
    "    price = Column(Float)\n",
    "    location = Column(String)\n",
    "    cl_id = Column(Integer, unique=True)\n",
    "    area = Column(String)\n",
    "    bart_stop = Column(String)\n",
    "\n",
    "Base.metadata.create_all(engine)\n",
    "\n",
    "Session = sessionmaker(bind=engine)\n",
    "session = Session()\n",
    "\n",
    "def scrape_area(area):\n",
    "    \"\"\"\n",
    "    Scrapes craigslist for a certain geographic area, and finds the latest listings.\n",
    "    :param area:\n",
    "    :return: A list of results.\n",
    "    \"\"\"\n",
    "    cl_h = CraigslistHousing(site=settings.CRAIGSLIST_SITE, area=area, category=settings.CRAIGSLIST_HOUSING_SECTION,\n",
    "                             filters={'max_price': settings.MAX_PRICE, \"min_price\": settings.MIN_PRICE})\n",
    "\n",
    "    results = []\n",
    "    gen = cl_h.get_results(sort_by='newest', geotagged=True, limit=20)\n",
    "    while True:\n",
    "        try:\n",
    "            result = next(gen)\n",
    "        except StopIteration:\n",
    "            break\n",
    "        except Exception:\n",
    "            continue\n",
    "        listing = session.query(Listing).filter_by(cl_id=result[\"id\"]).first()\n",
    "\n",
    "        # Don't store the listing if it already exists.\n",
    "        if listing is None:\n",
    "            if result[\"where\"] is None:\n",
    "                # If there is no string identifying which neighborhood the result is from, skip it.\n",
    "                continue\n",
    "\n",
    "            lat = 0\n",
    "            lon = 0\n",
    "            if result[\"geotag\"] is not None:\n",
    "                # Assign the coordinates.\n",
    "                lat = result[\"geotag\"][0]\n",
    "                lon = result[\"geotag\"][1]\n",
    "\n",
    "                # Annotate the result with information about the area it's in and points of interest near it.\n",
    "                geo_data = find_points_of_interest(result[\"geotag\"], result[\"where\"])\n",
    "                result.update(geo_data)\n",
    "            else:\n",
    "                result[\"area\"] = \"\"\n",
    "                result[\"bart\"] = \"\"\n",
    "\n",
    "            # Try parsing the price.\n",
    "            price = 0\n",
    "            try:\n",
    "                price = float(result[\"price\"].replace(\"$\", \"\"))\n",
    "            except Exception:\n",
    "                pass\n",
    "\n",
    "            # Create the listing object.\n",
    "            listing = Listing(\n",
    "                link=result[\"url\"],\n",
    "                created=parse(result[\"datetime\"]),\n",
    "                lat=lat,\n",
    "                lon=lon,\n",
    "                name=result[\"name\"],\n",
    "                price=price,\n",
    "                location=result[\"where\"],\n",
    "                cl_id=result[\"id\"],\n",
    "                area=result[\"area\"],\n",
    "                bart_stop=result[\"bart\"]\n",
    "            )\n",
    "\n",
    "            # Save the listing so we don't grab it again.\n",
    "            session.add(listing)\n",
    "            session.commit()\n",
    "\n",
    "            # Return the result if it's near a bart station, or if it is in an area we defined.\n",
    "            if len(result[\"bart\"]) > 0 or len(result[\"area\"]) > 0:\n",
    "                results.append(result)\n",
    "\n",
    "    return results\n",
    "\n",
    "def do_scrape():\n",
    "    \"\"\"\n",
    "    Runs the craigslist scraper, and posts data to slack.\n",
    "    \"\"\"\n",
    "\n",
    "    # Create a slack client.\n",
    "#     sc = SlackClient(settings.SLACK_TOKEN)\n",
    "\n",
    "    # Get all the results from craigslist.\n",
    "    all_results = []\n",
    "    for area in settings.AREAS:\n",
    "        all_results += scrape_area(area)\n",
    "\n",
    "    print(\"{}: Got {} results\".format(time.ctime(), len(all_results)))\n",
    "\n",
    "    # Post each result to slack.\n",
    "#     for result in all_results:\n",
    "#         post_listing_to_slack(sc, result)"
   ]
  },
  {
   "cell_type": "code",
   "execution_count": 22,
   "metadata": {},
   "outputs": [
    {
     "data": {
      "text/plain": [
       "[]"
      ]
     },
     "execution_count": 22,
     "metadata": {},
     "output_type": "execute_result"
    }
   ],
   "source": [
    "scrape_area('sfc')"
   ]
  },
  {
   "cell_type": "code",
   "execution_count": 23,
   "metadata": {},
   "outputs": [
    {
     "data": {
      "text/plain": [
       "Engine(sqlite:///listings.db)"
      ]
     },
     "execution_count": 23,
     "metadata": {},
     "output_type": "execute_result"
    }
   ],
   "source": [
    "engine"
   ]
  },
  {
   "cell_type": "code",
   "execution_count": 24,
   "metadata": {},
   "outputs": [
    {
     "ename": "NameError",
     "evalue": "name 'listings' is not defined",
     "output_type": "error",
     "traceback": [
      "\u001b[0;31m---------------------------------------------------------------------------\u001b[0m",
      "\u001b[0;31mNameError\u001b[0m                                 Traceback (most recent call last)",
      "\u001b[0;32m<ipython-input-24-8b334c6ad2a9>\u001b[0m in \u001b[0;36m<module>\u001b[0;34m\u001b[0m\n\u001b[0;32m----> 1\u001b[0;31m \u001b[0mlistings\u001b[0m\u001b[0;34m.\u001b[0m\u001b[0mdb\u001b[0m\u001b[0;34m\u001b[0m\u001b[0;34m\u001b[0m\u001b[0m\n\u001b[0m",
      "\u001b[0;31mNameError\u001b[0m: name 'listings' is not defined"
     ]
    }
   ],
   "source": [
    "listings.db"
   ]
  },
  {
   "cell_type": "code",
   "execution_count": null,
   "metadata": {},
   "outputs": [],
   "source": []
  }
 ],
 "metadata": {
  "kernelspec": {
   "display_name": "Python 3",
   "language": "python",
   "name": "python3"
  },
  "language_info": {
   "codemirror_mode": {
    "name": "ipython",
    "version": 3
   },
   "file_extension": ".py",
   "mimetype": "text/x-python",
   "name": "python",
   "nbconvert_exporter": "python",
   "pygments_lexer": "ipython3",
   "version": "3.7.1"
  }
 },
 "nbformat": 4,
 "nbformat_minor": 2
}
